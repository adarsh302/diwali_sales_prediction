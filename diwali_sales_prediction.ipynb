{
  "cells": [
    {
      "cell_type": "code",
      "execution_count": null,
      "id": "668323c0",
      "metadata": {
        "id": "668323c0"
      },
      "outputs": [],
      "source": [
        "import numpy as np\n",
        "import pandas as pd\n",
        "import matplotlib.pyplot as plt\n",
        "import seaborn as sns\n",
        "\n",
        "\n"
      ]
    },
    {
      "cell_type": "code",
      "execution_count": null,
      "id": "6b70fb2f",
      "metadata": {
        "id": "6b70fb2f"
      },
      "outputs": [],
      "source": [
        "df = pd.read_csv('diwali_sales.csv')"
      ]
    },
    {
      "cell_type": "code",
      "execution_count": null,
      "id": "dcbb3305",
      "metadata": {
        "colab": {
          "base_uri": "https://localhost:8080/",
          "height": 288
        },
        "id": "dcbb3305",
        "outputId": "082cfe14-4b75-4b39-ddab-2487047ee4ca"
      },
      "outputs": [
        {
          "data": {
            "text/html": [
              "<div>\n",
              "<style scoped>\n",
              "    .dataframe tbody tr th:only-of-type {\n",
              "        vertical-align: middle;\n",
              "    }\n",
              "\n",
              "    .dataframe tbody tr th {\n",
              "        vertical-align: top;\n",
              "    }\n",
              "\n",
              "    .dataframe thead th {\n",
              "        text-align: right;\n",
              "    }\n",
              "</style>\n",
              "<table border=\"1\" class=\"dataframe\">\n",
              "  <thead>\n",
              "    <tr style=\"text-align: right;\">\n",
              "      <th></th>\n",
              "      <th>sl_no</th>\n",
              "      <th>user_id</th>\n",
              "      <th>city</th>\n",
              "      <th>product_1\\nmysore_pak\\n(Kg)</th>\n",
              "      <th>product_2\\nsoan_ papdi\\n(Kg)</th>\n",
              "      <th>product_3\\nmotichoor\\n(Kg)</th>\n",
              "      <th>product_4\\nkaju_barfi\\n(Kg)</th>\n",
              "      <th>amont_1\\nmysore_pak</th>\n",
              "      <th>amount_2\\nsona_padi</th>\n",
              "      <th>amount_3\\nmotichoor</th>\n",
              "      <th>amount_4\\nkaju_barfi</th>\n",
              "      <th>total_amount</th>\n",
              "    </tr>\n",
              "  </thead>\n",
              "  <tbody>\n",
              "    <tr>\n",
              "      <th>0</th>\n",
              "      <td>1</td>\n",
              "      <td>10001</td>\n",
              "      <td>BENGALURU</td>\n",
              "      <td>0.1</td>\n",
              "      <td>1.5</td>\n",
              "      <td>0.0</td>\n",
              "      <td>0.0</td>\n",
              "      <td>70</td>\n",
              "      <td>1125</td>\n",
              "      <td>0</td>\n",
              "      <td>0</td>\n",
              "      <td>1195</td>\n",
              "    </tr>\n",
              "    <tr>\n",
              "      <th>1</th>\n",
              "      <td>2</td>\n",
              "      <td>10002</td>\n",
              "      <td>BENGALURU</td>\n",
              "      <td>1.5</td>\n",
              "      <td>0.0</td>\n",
              "      <td>1.5</td>\n",
              "      <td>2.5</td>\n",
              "      <td>1050</td>\n",
              "      <td>0</td>\n",
              "      <td>1200</td>\n",
              "      <td>3000</td>\n",
              "      <td>5250</td>\n",
              "    </tr>\n",
              "    <tr>\n",
              "      <th>2</th>\n",
              "      <td>3</td>\n",
              "      <td>10003</td>\n",
              "      <td>BENGALURU</td>\n",
              "      <td>0.0</td>\n",
              "      <td>0.0</td>\n",
              "      <td>0.2</td>\n",
              "      <td>0.0</td>\n",
              "      <td>0</td>\n",
              "      <td>0</td>\n",
              "      <td>160</td>\n",
              "      <td>0</td>\n",
              "      <td>160</td>\n",
              "    </tr>\n",
              "    <tr>\n",
              "      <th>3</th>\n",
              "      <td>4</td>\n",
              "      <td>10004</td>\n",
              "      <td>BENGALURU</td>\n",
              "      <td>2.0</td>\n",
              "      <td>0.0</td>\n",
              "      <td>0.2</td>\n",
              "      <td>0.0</td>\n",
              "      <td>1400</td>\n",
              "      <td>0</td>\n",
              "      <td>160</td>\n",
              "      <td>0</td>\n",
              "      <td>1560</td>\n",
              "    </tr>\n",
              "    <tr>\n",
              "      <th>4</th>\n",
              "      <td>5</td>\n",
              "      <td>10005</td>\n",
              "      <td>BENGALURU</td>\n",
              "      <td>0.0</td>\n",
              "      <td>0.5</td>\n",
              "      <td>1.0</td>\n",
              "      <td>0.0</td>\n",
              "      <td>0</td>\n",
              "      <td>375</td>\n",
              "      <td>800</td>\n",
              "      <td>0</td>\n",
              "      <td>1175</td>\n",
              "    </tr>\n",
              "  </tbody>\n",
              "</table>\n",
              "</div>"
            ],
            "text/plain": [
              "   sl_no  user_id       city  product_1\\nmysore_pak\\n(Kg)  \\\n",
              "0      1    10001  BENGALURU                          0.1   \n",
              "1      2    10002  BENGALURU                          1.5   \n",
              "2      3    10003  BENGALURU                          0.0   \n",
              "3      4    10004  BENGALURU                          2.0   \n",
              "4      5    10005  BENGALURU                          0.0   \n",
              "\n",
              "   product_2\\nsoan_ papdi\\n(Kg)  product_3\\nmotichoor\\n(Kg)  \\\n",
              "0                           1.5                         0.0   \n",
              "1                           0.0                         1.5   \n",
              "2                           0.0                         0.2   \n",
              "3                           0.0                         0.2   \n",
              "4                           0.5                         1.0   \n",
              "\n",
              "   product_4\\nkaju_barfi\\n(Kg)   amont_1\\nmysore_pak    amount_2\\nsona_padi   \\\n",
              "0                          0.0                     70                   1125   \n",
              "1                          2.5                   1050                      0   \n",
              "2                          0.0                      0                      0   \n",
              "3                          0.0                   1400                      0   \n",
              "4                          0.0                      0                    375   \n",
              "\n",
              "   amount_3\\nmotichoor   amount_4\\nkaju_barfi  total_amount  \n",
              "0                     0                     0          1195  \n",
              "1                  1200                  3000          5250  \n",
              "2                   160                     0           160  \n",
              "3                   160                     0          1560  \n",
              "4                   800                     0          1175  "
            ]
          },
          "execution_count": 3,
          "metadata": {},
          "output_type": "execute_result"
        }
      ],
      "source": [
        "df.head()"
      ]
    },
    {
      "cell_type": "code",
      "execution_count": null,
      "id": "371fb05f",
      "metadata": {
        "id": "371fb05f",
        "outputId": "7604d369-cd9b-45aa-de0b-88ed5e3b5412"
      },
      "outputs": [
        {
          "data": {
            "text/html": [
              "<div>\n",
              "<style scoped>\n",
              "    .dataframe tbody tr th:only-of-type {\n",
              "        vertical-align: middle;\n",
              "    }\n",
              "\n",
              "    .dataframe tbody tr th {\n",
              "        vertical-align: top;\n",
              "    }\n",
              "\n",
              "    .dataframe thead th {\n",
              "        text-align: right;\n",
              "    }\n",
              "</style>\n",
              "<table border=\"1\" class=\"dataframe\">\n",
              "  <thead>\n",
              "    <tr style=\"text-align: right;\">\n",
              "      <th></th>\n",
              "      <th>sl_no</th>\n",
              "      <th>user_id</th>\n",
              "      <th>city</th>\n",
              "      <th>product_1\\nmysore_pak\\n(Kg)</th>\n",
              "      <th>product_2\\nsoan_ papdi\\n(Kg)</th>\n",
              "      <th>product_3\\nmotichoor\\n(Kg)</th>\n",
              "      <th>product_4\\nkaju_barfi\\n(Kg)</th>\n",
              "      <th>amont_1\\nmysore_pak</th>\n",
              "      <th>amount_2\\nsona_padi</th>\n",
              "      <th>amount_3\\nmotichoor</th>\n",
              "      <th>amount_4\\nkaju_barfi</th>\n",
              "      <th>total_amount</th>\n",
              "    </tr>\n",
              "  </thead>\n",
              "  <tbody>\n",
              "    <tr>\n",
              "      <th>5</th>\n",
              "      <td>6</td>\n",
              "      <td>10006</td>\n",
              "      <td>BENGALURU</td>\n",
              "      <td>1.0</td>\n",
              "      <td>1.0</td>\n",
              "      <td>1.0</td>\n",
              "      <td>1.0</td>\n",
              "      <td>700</td>\n",
              "      <td>750</td>\n",
              "      <td>800</td>\n",
              "      <td>1200</td>\n",
              "      <td>3450</td>\n",
              "    </tr>\n",
              "    <tr>\n",
              "      <th>13</th>\n",
              "      <td>14</td>\n",
              "      <td>10014</td>\n",
              "      <td>BENGALURU</td>\n",
              "      <td>1.0</td>\n",
              "      <td>2.0</td>\n",
              "      <td>0.0</td>\n",
              "      <td>1.0</td>\n",
              "      <td>700</td>\n",
              "      <td>1500</td>\n",
              "      <td>0</td>\n",
              "      <td>1200</td>\n",
              "      <td>3400</td>\n",
              "    </tr>\n",
              "    <tr>\n",
              "      <th>17</th>\n",
              "      <td>18</td>\n",
              "      <td>10018</td>\n",
              "      <td>BENGALURU</td>\n",
              "      <td>1.0</td>\n",
              "      <td>0.5</td>\n",
              "      <td>1.0</td>\n",
              "      <td>0.0</td>\n",
              "      <td>700</td>\n",
              "      <td>375</td>\n",
              "      <td>800</td>\n",
              "      <td>0</td>\n",
              "      <td>1875</td>\n",
              "    </tr>\n",
              "    <tr>\n",
              "      <th>26</th>\n",
              "      <td>27</td>\n",
              "      <td>10027</td>\n",
              "      <td>BENGALURU</td>\n",
              "      <td>1.0</td>\n",
              "      <td>0.0</td>\n",
              "      <td>0.0</td>\n",
              "      <td>0.2</td>\n",
              "      <td>700</td>\n",
              "      <td>0</td>\n",
              "      <td>0</td>\n",
              "      <td>240</td>\n",
              "      <td>940</td>\n",
              "    </tr>\n",
              "    <tr>\n",
              "      <th>31</th>\n",
              "      <td>32</td>\n",
              "      <td>10032</td>\n",
              "      <td>BENGALURU</td>\n",
              "      <td>1.0</td>\n",
              "      <td>4.0</td>\n",
              "      <td>0.0</td>\n",
              "      <td>0.0</td>\n",
              "      <td>700</td>\n",
              "      <td>3000</td>\n",
              "      <td>0</td>\n",
              "      <td>0</td>\n",
              "      <td>3700</td>\n",
              "    </tr>\n",
              "    <tr>\n",
              "      <th>...</th>\n",
              "      <td>...</td>\n",
              "      <td>...</td>\n",
              "      <td>...</td>\n",
              "      <td>...</td>\n",
              "      <td>...</td>\n",
              "      <td>...</td>\n",
              "      <td>...</td>\n",
              "      <td>...</td>\n",
              "      <td>...</td>\n",
              "      <td>...</td>\n",
              "      <td>...</td>\n",
              "      <td>...</td>\n",
              "    </tr>\n",
              "    <tr>\n",
              "      <th>967</th>\n",
              "      <td>968</td>\n",
              "      <td>40218</td>\n",
              "      <td>HUBLI</td>\n",
              "      <td>1.0</td>\n",
              "      <td>1.0</td>\n",
              "      <td>1.0</td>\n",
              "      <td>1.0</td>\n",
              "      <td>700</td>\n",
              "      <td>750</td>\n",
              "      <td>800</td>\n",
              "      <td>1200</td>\n",
              "      <td>3450</td>\n",
              "    </tr>\n",
              "    <tr>\n",
              "      <th>975</th>\n",
              "      <td>976</td>\n",
              "      <td>40226</td>\n",
              "      <td>HUBLI</td>\n",
              "      <td>1.0</td>\n",
              "      <td>1.0</td>\n",
              "      <td>1.0</td>\n",
              "      <td>1.0</td>\n",
              "      <td>700</td>\n",
              "      <td>750</td>\n",
              "      <td>800</td>\n",
              "      <td>1200</td>\n",
              "      <td>3450</td>\n",
              "    </tr>\n",
              "    <tr>\n",
              "      <th>979</th>\n",
              "      <td>980</td>\n",
              "      <td>40230</td>\n",
              "      <td>HUBLI</td>\n",
              "      <td>1.0</td>\n",
              "      <td>1.5</td>\n",
              "      <td>0.0</td>\n",
              "      <td>0.0</td>\n",
              "      <td>700</td>\n",
              "      <td>1125</td>\n",
              "      <td>0</td>\n",
              "      <td>0</td>\n",
              "      <td>1825</td>\n",
              "    </tr>\n",
              "    <tr>\n",
              "      <th>992</th>\n",
              "      <td>993</td>\n",
              "      <td>40243</td>\n",
              "      <td>HUBLI</td>\n",
              "      <td>1.0</td>\n",
              "      <td>0.0</td>\n",
              "      <td>2.0</td>\n",
              "      <td>0.0</td>\n",
              "      <td>700</td>\n",
              "      <td>0</td>\n",
              "      <td>1600</td>\n",
              "      <td>0</td>\n",
              "      <td>2300</td>\n",
              "    </tr>\n",
              "    <tr>\n",
              "      <th>996</th>\n",
              "      <td>997</td>\n",
              "      <td>40247</td>\n",
              "      <td>HUBLI</td>\n",
              "      <td>1.0</td>\n",
              "      <td>1.5</td>\n",
              "      <td>0.0</td>\n",
              "      <td>0.0</td>\n",
              "      <td>700</td>\n",
              "      <td>1125</td>\n",
              "      <td>0</td>\n",
              "      <td>0</td>\n",
              "      <td>1825</td>\n",
              "    </tr>\n",
              "  </tbody>\n",
              "</table>\n",
              "<p>218 rows × 12 columns</p>\n",
              "</div>"
            ],
            "text/plain": [
              "     sl_no  user_id       city  product_1\\nmysore_pak\\n(Kg)  \\\n",
              "5        6    10006  BENGALURU                          1.0   \n",
              "13      14    10014  BENGALURU                          1.0   \n",
              "17      18    10018  BENGALURU                          1.0   \n",
              "26      27    10027  BENGALURU                          1.0   \n",
              "31      32    10032  BENGALURU                          1.0   \n",
              "..     ...      ...        ...                          ...   \n",
              "967    968    40218      HUBLI                          1.0   \n",
              "975    976    40226      HUBLI                          1.0   \n",
              "979    980    40230      HUBLI                          1.0   \n",
              "992    993    40243      HUBLI                          1.0   \n",
              "996    997    40247      HUBLI                          1.0   \n",
              "\n",
              "     product_2\\nsoan_ papdi\\n(Kg)  product_3\\nmotichoor\\n(Kg)  \\\n",
              "5                             1.0                         1.0   \n",
              "13                            2.0                         0.0   \n",
              "17                            0.5                         1.0   \n",
              "26                            0.0                         0.0   \n",
              "31                            4.0                         0.0   \n",
              "..                            ...                         ...   \n",
              "967                           1.0                         1.0   \n",
              "975                           1.0                         1.0   \n",
              "979                           1.5                         0.0   \n",
              "992                           0.0                         2.0   \n",
              "996                           1.5                         0.0   \n",
              "\n",
              "     product_4\\nkaju_barfi\\n(Kg)   amont_1\\nmysore_pak   \\\n",
              "5                            1.0                    700   \n",
              "13                           1.0                    700   \n",
              "17                           0.0                    700   \n",
              "26                           0.2                    700   \n",
              "31                           0.0                    700   \n",
              "..                           ...                    ...   \n",
              "967                          1.0                    700   \n",
              "975                          1.0                    700   \n",
              "979                          0.0                    700   \n",
              "992                          0.0                    700   \n",
              "996                          0.0                    700   \n",
              "\n",
              "      amount_2\\nsona_padi   amount_3\\nmotichoor   amount_4\\nkaju_barfi  \\\n",
              "5                      750                   800                  1200   \n",
              "13                    1500                     0                  1200   \n",
              "17                     375                   800                     0   \n",
              "26                       0                     0                   240   \n",
              "31                    3000                     0                     0   \n",
              "..                     ...                   ...                   ...   \n",
              "967                    750                   800                  1200   \n",
              "975                    750                   800                  1200   \n",
              "979                   1125                     0                     0   \n",
              "992                      0                  1600                     0   \n",
              "996                   1125                     0                     0   \n",
              "\n",
              "     total_amount  \n",
              "5            3450  \n",
              "13           3400  \n",
              "17           1875  \n",
              "26            940  \n",
              "31           3700  \n",
              "..            ...  \n",
              "967          3450  \n",
              "975          3450  \n",
              "979          1825  \n",
              "992          2300  \n",
              "996          1825  \n",
              "\n",
              "[218 rows x 12 columns]"
            ]
          },
          "execution_count": 4,
          "metadata": {},
          "output_type": "execute_result"
        }
      ],
      "source": [
        "df[df['product_1\\nmysore_pak\\n(Kg)'] == 1.0]"
      ]
    },
    {
      "cell_type": "code",
      "execution_count": null,
      "id": "9df85431",
      "metadata": {
        "colab": {
          "base_uri": "https://localhost:8080/"
        },
        "id": "9df85431",
        "outputId": "c997c4cd-8864-41a6-9171-22a466a38067"
      },
      "outputs": [
        {
          "data": {
            "text/plain": [
              "(1000, 12)"
            ]
          },
          "execution_count": 5,
          "metadata": {},
          "output_type": "execute_result"
        }
      ],
      "source": [
        "df.shape\n"
      ]
    },
    {
      "cell_type": "code",
      "execution_count": null,
      "id": "f5151df0",
      "metadata": {
        "colab": {
          "base_uri": "https://localhost:8080/"
        },
        "id": "f5151df0",
        "outputId": "4666a0d9-70a6-41af-b586-d6c4a6a2f7a6"
      },
      "outputs": [
        {
          "data": {
            "text/plain": [
              "sl_no                           0\n",
              "user_id                         0\n",
              "city                            0\n",
              "product_1\\nmysore_pak\\n(Kg)     0\n",
              "product_2\\nsoan_ papdi\\n(Kg)    0\n",
              "product_3\\nmotichoor\\n(Kg)      0\n",
              "product_4\\nkaju_barfi\\n(Kg)     0\n",
              " amont_1\\nmysore_pak            0\n",
              " amount_2\\nsona_padi            0\n",
              "amount_3\\nmotichoor             0\n",
              "amount_4\\nkaju_barfi            0\n",
              "total_amount                    0\n",
              "dtype: int64"
            ]
          },
          "execution_count": 6,
          "metadata": {},
          "output_type": "execute_result"
        }
      ],
      "source": [
        "df.isnull().sum()"
      ]
    },
    {
      "cell_type": "code",
      "execution_count": null,
      "id": "20d974df",
      "metadata": {
        "scrolled": false,
        "id": "20d974df",
        "outputId": "2045fe70-581b-4d8e-9f6c-959247d6bba2"
      },
      "outputs": [
        {
          "name": "stdout",
          "output_type": "stream",
          "text": [
            "Requirement already satisfied: pandas in c:\\users\\ak543\\anaconda3\\lib\\site-packages (1.3.4)\n",
            "Requirement already satisfied: python-dateutil>=2.7.3 in c:\\users\\ak543\\anaconda3\\lib\\site-packages (from pandas) (2.8.2)\n",
            "Requirement already satisfied: numpy>=1.17.3 in c:\\users\\ak543\\anaconda3\\lib\\site-packages (from pandas) (1.20.3)\n",
            "Requirement already satisfied: pytz>=2017.3 in c:\\users\\ak543\\anaconda3\\lib\\site-packages (from pandas) (2021.3)\n",
            "Requirement already satisfied: six>=1.5 in c:\\users\\ak543\\anaconda3\\lib\\site-packages (from python-dateutil>=2.7.3->pandas) (1.16.0)\n"
          ]
        }
      ],
      "source": [
        "!pip install pandas"
      ]
    },
    {
      "cell_type": "code",
      "execution_count": null,
      "id": "9bf633f0",
      "metadata": {
        "id": "9bf633f0"
      },
      "outputs": [],
      "source": [
        "import seaborn as sns"
      ]
    },
    {
      "cell_type": "code",
      "execution_count": null,
      "id": "23cb6406",
      "metadata": {
        "colab": {
          "base_uri": "https://localhost:8080/",
          "height": 376
        },
        "id": "23cb6406",
        "outputId": "0f2d7e22-88f9-4a7f-b0cd-f6ea5b29fe08",
        "scrolled": true
      },
      "outputs": [
        {
          "name": "stderr",
          "output_type": "stream",
          "text": [
            "C:\\Users\\ak543\\anaconda3\\lib\\site-packages\\seaborn\\_decorators.py:36: FutureWarning: Pass the following variable as a keyword arg: x. From version 0.12, the only valid positional argument will be `data`, and passing other arguments without an explicit keyword will result in an error or misinterpretation.\n",
            "  warnings.warn(\n"
          ]
        },
        {
          "data": {
            "text/plain": [
              "<AxesSubplot:xlabel='product_1\\nmysore_pak\\n(Kg)', ylabel='count'>"
            ]
          },
          "execution_count": 9,
          "metadata": {},
          "output_type": "execute_result"
        },
        {
          "data": {
            "image/png": "[encoded data removed]",
            "text/plain": [
              "<Figure size 432x288 with 1 Axes>"
            ]
          },
          "metadata": {
            "needs_background": "light"
          },
          "output_type": "display_data"
        }
      ],
      "source": [
        "sns.countplot('product_1\\nmysore_pak\\n(Kg)',data = df)"
      ]
    },
    {
      "cell_type": "code",
      "execution_count": null,
      "id": "441c2fb1",
      "metadata": {
        "id": "441c2fb1",
        "outputId": "fd9a2fb2-68ef-4c90-86cd-d1d189e398d5"
      },
      "outputs": [
        {
          "name": "stderr",
          "output_type": "stream",
          "text": [
            "C:\\Users\\ak543\\anaconda3\\lib\\site-packages\\seaborn\\_decorators.py:36: FutureWarning: Pass the following variable as a keyword arg: x. From version 0.12, the only valid positional argument will be `data`, and passing other arguments without an explicit keyword will result in an error or misinterpretation.\n",
            "  warnings.warn(\n"
          ]
        },
        {
          "data": {
            "text/plain": [
              "<AxesSubplot:xlabel='product_2\\nsoan_ papdi\\n(Kg)', ylabel='count'>"
            ]
          },
          "execution_count": 10,
          "metadata": {},
          "output_type": "execute_result"
        },
        {
          "data": {
            "image/png": "[encoded data removed]",
            "text/plain": [
              "<Figure size 432x288 with 1 Axes>"
            ]
          },
          "metadata": {
            "needs_background": "light"
          },
          "output_type": "display_data"
        }
      ],
      "source": [
        "sns.countplot('product_2\\nsoan_ papdi\\n(Kg)',data = df)"
      ]
    },
    {
      "cell_type": "code",
      "execution_count": null,
      "id": "bfebe91d",
      "metadata": {
        "id": "bfebe91d",
        "outputId": "3a54a1a7-81b6-45d3-ef96-7ad5e6fbb157"
      },
      "outputs": [
        {
          "name": "stderr",
          "output_type": "stream",
          "text": [
            "C:\\Users\\ak543\\anaconda3\\lib\\site-packages\\seaborn\\_decorators.py:36: FutureWarning: Pass the following variable as a keyword arg: x. From version 0.12, the only valid positional argument will be `data`, and passing other arguments without an explicit keyword will result in an error or misinterpretation.\n",
            "  warnings.warn(\n"
          ]
        },
        {
          "data": {
            "text/plain": [
              "<AxesSubplot:xlabel='product_3\\nmotichoor\\n(Kg)', ylabel='count'>"
            ]
          },
          "execution_count": 11,
          "metadata": {},
          "output_type": "execute_result"
        },
        {
          "data": {
            "image/png": "[encoded data removed]",
            "text/plain": [
              "<Figure size 432x288 with 1 Axes>"
            ]
          },
          "metadata": {
            "needs_background": "light"
          },
          "output_type": "display_data"
        }
      ],
      "source": [
        "sns.countplot('product_3\\nmotichoor\\n(Kg)',data = df)"
      ]
    },
    {
      "cell_type": "code",
      "execution_count": null,
      "id": "3a83765e",
      "metadata": {
        "id": "3a83765e",
        "outputId": "6df874f9-8086-4b3a-fa56-4938bbdd842b"
      },
      "outputs": [
        {
          "name": "stderr",
          "output_type": "stream",
          "text": [
            "C:\\Users\\ak543\\anaconda3\\lib\\site-packages\\seaborn\\_decorators.py:36: FutureWarning: Pass the following variable as a keyword arg: x. From version 0.12, the only valid positional argument will be `data`, and passing other arguments without an explicit keyword will result in an error or misinterpretation.\n",
            "  warnings.warn(\n"
          ]
        },
        {
          "data": {
            "text/plain": [
              "<AxesSubplot:xlabel='product_4\\nkaju_barfi\\n(Kg)', ylabel='count'>"
            ]
          },
          "execution_count": 12,
          "metadata": {},
          "output_type": "execute_result"
        },
        {
          "data": {
            "image/png": "[encoded data removed]",
            "text/plain": [
              "<Figure size 432x288 with 1 Axes>"
            ]
          },
          "metadata": {
            "needs_background": "light"
          },
          "output_type": "display_data"
        }
      ],
      "source": [
        "sns.countplot('product_4\\nkaju_barfi\\n(Kg)',data = df)"
      ]
    },
    {
      "cell_type": "code",
      "execution_count": null,
      "id": "ce9bf4b5",
      "metadata": {
        "colab": {
          "base_uri": "https://localhost:8080/",
          "height": 321
        },
        "id": "ce9bf4b5",
        "outputId": "26ea7294-82ff-4c7f-81e7-c1f074fa4db9"
      },
      "outputs": [
        {
          "data": {
            "text/plain": [
              "<AxesSubplot:xlabel='product_1\\nmysore_pak\\n(Kg)'>"
            ]
          },
          "execution_count": 13,
          "metadata": {},
          "output_type": "execute_result"
        },
        {
          "data": {
            "image/png": "[encoded data removed]",
            "text/plain": [
              "<Figure size 432x288 with 1 Axes>"
            ]
          },
          "metadata": {
            "needs_background": "light"
          },
          "output_type": "display_data"
        }
      ],
      "source": [
        "sns.boxplot(x='product_1\\nmysore_pak\\n(Kg)',data = df)"
      ]
    },
    {
      "cell_type": "code",
      "execution_count": null,
      "id": "c7a1e6a5",
      "metadata": {
        "colab": {
          "base_uri": "https://localhost:8080/",
          "height": 321
        },
        "id": "c7a1e6a5",
        "outputId": "7a020133-6a9e-435d-ba4e-2d1158aa8575"
      },
      "outputs": [
        {
          "data": {
            "text/plain": [
              "<AxesSubplot:xlabel='product_2\\nsoan_ papdi\\n(Kg)'>"
            ]
          },
          "execution_count": 14,
          "metadata": {},
          "output_type": "execute_result"
        },
        {
          "data": {
            "image/png": "[encoded data removed]",
            "text/plain": [
              "<Figure size 432x288 with 1 Axes>"
            ]
          },
          "metadata": {
            "needs_background": "light"
          },
          "output_type": "display_data"
        }
      ],
      "source": [
        "sns.boxplot(x='product_2\\nsoan_ papdi\\n(Kg)',data = df)"
      ]
    },
    {
      "cell_type": "code",
      "execution_count": null,
      "id": "af4d6161",
      "metadata": {
        "id": "af4d6161",
        "outputId": "fff2b6c3-3e1a-461a-8ff8-d000256e2e95"
      },
      "outputs": [
        {
          "data": {
            "text/plain": [
              "<AxesSubplot:xlabel='product_3\\nmotichoor\\n(Kg)'>"
            ]
          },
          "execution_count": 15,
          "metadata": {},
          "output_type": "execute_result"
        },
        {
          "data": {
            "image/png": "[encoded data removed]",
            "text/plain": [
              "<Figure size 432x288 with 1 Axes>"
            ]
          },
          "metadata": {
            "needs_background": "light"
          },
          "output_type": "display_data"
        }
      ],
      "source": [
        "sns.boxplot(x='product_3\\nmotichoor\\n(Kg)',data = df)"
      ]
    },
    {
      "cell_type": "code",
      "execution_count": null,
      "id": "a73332b9",
      "metadata": {
        "id": "a73332b9",
        "outputId": "dd3350de-b768-4b7f-a01c-8c6bb6c882fa"
      },
      "outputs": [
        {
          "data": {
            "text/plain": [
              "<AxesSubplot:xlabel='product_4\\nkaju_barfi\\n(Kg)'>"
            ]
          },
          "execution_count": 16,
          "metadata": {},
          "output_type": "execute_result"
        },
        {
          "data": {
            "image/png": "[encoded data removed]",
            "text/plain": [
              "<Figure size 432x288 with 1 Axes>"
            ]
          },
          "metadata": {
            "needs_background": "light"
          },
          "output_type": "display_data"
        }
      ],
      "source": [
        "sns.boxplot(x='product_4\\nkaju_barfi\\n(Kg)',data = df)"
      ]
    },
    {
      "cell_type": "code",
      "execution_count": null,
      "id": "32c65e90",
      "metadata": {
        "id": "32c65e90"
      },
      "outputs": [],
      "source": [
        "# note :- all the data has outliers but in this we need outliers\n",
        "df.drop('user_id',axis = 1,inplace = True)"
      ]
    },
    {
      "cell_type": "code",
      "execution_count": null,
      "id": "2b3416ce",
      "metadata": {
        "id": "2b3416ce"
      },
      "outputs": [],
      "source": [
        "df.drop('sl_no',axis = 1,inplace = True)"
      ]
    },
    {
      "cell_type": "code",
      "execution_count": null,
      "id": "62cca580",
      "metadata": {
        "colab": {
          "base_uri": "https://localhost:8080/",
          "height": 288
        },
        "id": "62cca580",
        "outputId": "de6522a4-81e1-4451-f685-7f32aecc33b0",
        "scrolled": true
      },
      "outputs": [
        {
          "data": {
            "text/html": [
              "<div>\n",
              "<style scoped>\n",
              "    .dataframe tbody tr th:only-of-type {\n",
              "        vertical-align: middle;\n",
              "    }\n",
              "\n",
              "    .dataframe tbody tr th {\n",
              "        vertical-align: top;\n",
              "    }\n",
              "\n",
              "    .dataframe thead th {\n",
              "        text-align: right;\n",
              "    }\n",
              "</style>\n",
              "<table border=\"1\" class=\"dataframe\">\n",
              "  <thead>\n",
              "    <tr style=\"text-align: right;\">\n",
              "      <th></th>\n",
              "      <th>city</th>\n",
              "      <th>product_1\\nmysore_pak\\n(Kg)</th>\n",
              "      <th>product_2\\nsoan_ papdi\\n(Kg)</th>\n",
              "      <th>product_3\\nmotichoor\\n(Kg)</th>\n",
              "      <th>product_4\\nkaju_barfi\\n(Kg)</th>\n",
              "      <th>amont_1\\nmysore_pak</th>\n",
              "      <th>amount_2\\nsona_padi</th>\n",
              "      <th>amount_3\\nmotichoor</th>\n",
              "      <th>amount_4\\nkaju_barfi</th>\n",
              "      <th>total_amount</th>\n",
              "    </tr>\n",
              "  </thead>\n",
              "  <tbody>\n",
              "    <tr>\n",
              "      <th>0</th>\n",
              "      <td>BENGALURU</td>\n",
              "      <td>0.1</td>\n",
              "      <td>1.5</td>\n",
              "      <td>0.0</td>\n",
              "      <td>0.0</td>\n",
              "      <td>70</td>\n",
              "      <td>1125</td>\n",
              "      <td>0</td>\n",
              "      <td>0</td>\n",
              "      <td>1195</td>\n",
              "    </tr>\n",
              "    <tr>\n",
              "      <th>1</th>\n",
              "      <td>BENGALURU</td>\n",
              "      <td>1.5</td>\n",
              "      <td>0.0</td>\n",
              "      <td>1.5</td>\n",
              "      <td>2.5</td>\n",
              "      <td>1050</td>\n",
              "      <td>0</td>\n",
              "      <td>1200</td>\n",
              "      <td>3000</td>\n",
              "      <td>5250</td>\n",
              "    </tr>\n",
              "    <tr>\n",
              "      <th>2</th>\n",
              "      <td>BENGALURU</td>\n",
              "      <td>0.0</td>\n",
              "      <td>0.0</td>\n",
              "      <td>0.2</td>\n",
              "      <td>0.0</td>\n",
              "      <td>0</td>\n",
              "      <td>0</td>\n",
              "      <td>160</td>\n",
              "      <td>0</td>\n",
              "      <td>160</td>\n",
              "    </tr>\n",
              "    <tr>\n",
              "      <th>3</th>\n",
              "      <td>BENGALURU</td>\n",
              "      <td>2.0</td>\n",
              "      <td>0.0</td>\n",
              "      <td>0.2</td>\n",
              "      <td>0.0</td>\n",
              "      <td>1400</td>\n",
              "      <td>0</td>\n",
              "      <td>160</td>\n",
              "      <td>0</td>\n",
              "      <td>1560</td>\n",
              "    </tr>\n",
              "    <tr>\n",
              "      <th>4</th>\n",
              "      <td>BENGALURU</td>\n",
              "      <td>0.0</td>\n",
              "      <td>0.5</td>\n",
              "      <td>1.0</td>\n",
              "      <td>0.0</td>\n",
              "      <td>0</td>\n",
              "      <td>375</td>\n",
              "      <td>800</td>\n",
              "      <td>0</td>\n",
              "      <td>1175</td>\n",
              "    </tr>\n",
              "  </tbody>\n",
              "</table>\n",
              "</div>"
            ],
            "text/plain": [
              "        city  product_1\\nmysore_pak\\n(Kg)  product_2\\nsoan_ papdi\\n(Kg)  \\\n",
              "0  BENGALURU                          0.1                           1.5   \n",
              "1  BENGALURU                          1.5                           0.0   \n",
              "2  BENGALURU                          0.0                           0.0   \n",
              "3  BENGALURU                          2.0                           0.0   \n",
              "4  BENGALURU                          0.0                           0.5   \n",
              "\n",
              "   product_3\\nmotichoor\\n(Kg)  product_4\\nkaju_barfi\\n(Kg)  \\\n",
              "0                         0.0                          0.0   \n",
              "1                         1.5                          2.5   \n",
              "2                         0.2                          0.0   \n",
              "3                         0.2                          0.0   \n",
              "4                         1.0                          0.0   \n",
              "\n",
              "    amont_1\\nmysore_pak    amount_2\\nsona_padi   amount_3\\nmotichoor   \\\n",
              "0                     70                   1125                     0   \n",
              "1                   1050                      0                  1200   \n",
              "2                      0                      0                   160   \n",
              "3                   1400                      0                   160   \n",
              "4                      0                    375                   800   \n",
              "\n",
              "   amount_4\\nkaju_barfi  total_amount  \n",
              "0                     0          1195  \n",
              "1                  3000          5250  \n",
              "2                     0           160  \n",
              "3                     0          1560  \n",
              "4                     0          1175  "
            ]
          },
          "execution_count": 19,
          "metadata": {},
          "output_type": "execute_result"
        }
      ],
      "source": [
        "df.head()"
      ]
    },
    {
      "cell_type": "code",
      "execution_count": null,
      "id": "a2ca8487",
      "metadata": {
        "colab": {
          "base_uri": "https://localhost:8080/"
        },
        "id": "a2ca8487",
        "outputId": "19b88260-bf82-462e-8394-2ba496078707"
      },
      "outputs": [
        {
          "data": {
            "text/plain": [
              "array(['BENGALURU', 'MYSURU', 'BELAGAVI', 'HUBLI'], dtype=object)"
            ]
          },
          "execution_count": 20,
          "metadata": {},
          "output_type": "execute_result"
        }
      ],
      "source": [
        "df.city.unique()"
      ]
    },
    {
      "cell_type": "code",
      "execution_count": null,
      "id": "283a0a5a",
      "metadata": {
        "id": "283a0a5a"
      },
      "outputs": [],
      "source": [
        "df.city = df.city.map({'BENGALURU':1,'MYSURU':2,'BELAGAVI':3,'HUBLI':4})"
      ]
    },
    {
      "cell_type": "code",
      "execution_count": null,
      "id": "84786372",
      "metadata": {
        "id": "84786372"
      },
      "outputs": [],
      "source": [
        "df.drop('city',axis = 1,inplace = True)"
      ]
    },
    {
      "cell_type": "code",
      "execution_count": null,
      "id": "92f84b1c",
      "metadata": {
        "colab": {
          "base_uri": "https://localhost:8080/",
          "height": 288
        },
        "id": "92f84b1c",
        "outputId": "def3c209-c065-4fea-afb6-9f01e079fbd8",
        "scrolled": true
      },
      "outputs": [
        {
          "data": {
            "text/html": [
              "<div>\n",
              "<style scoped>\n",
              "    .dataframe tbody tr th:only-of-type {\n",
              "        vertical-align: middle;\n",
              "    }\n",
              "\n",
              "    .dataframe tbody tr th {\n",
              "        vertical-align: top;\n",
              "    }\n",
              "\n",
              "    .dataframe thead th {\n",
              "        text-align: right;\n",
              "    }\n",
              "</style>\n",
              "<table border=\"1\" class=\"dataframe\">\n",
              "  <thead>\n",
              "    <tr style=\"text-align: right;\">\n",
              "      <th></th>\n",
              "      <th>product_1\\nmysore_pak\\n(Kg)</th>\n",
              "      <th>product_2\\nsoan_ papdi\\n(Kg)</th>\n",
              "      <th>product_3\\nmotichoor\\n(Kg)</th>\n",
              "      <th>product_4\\nkaju_barfi\\n(Kg)</th>\n",
              "      <th>amont_1\\nmysore_pak</th>\n",
              "      <th>amount_2\\nsona_padi</th>\n",
              "      <th>amount_3\\nmotichoor</th>\n",
              "      <th>amount_4\\nkaju_barfi</th>\n",
              "      <th>total_amount</th>\n",
              "    </tr>\n",
              "  </thead>\n",
              "  <tbody>\n",
              "    <tr>\n",
              "      <th>0</th>\n",
              "      <td>0.1</td>\n",
              "      <td>1.5</td>\n",
              "      <td>0.0</td>\n",
              "      <td>0.0</td>\n",
              "      <td>70</td>\n",
              "      <td>1125</td>\n",
              "      <td>0</td>\n",
              "      <td>0</td>\n",
              "      <td>1195</td>\n",
              "    </tr>\n",
              "    <tr>\n",
              "      <th>1</th>\n",
              "      <td>1.5</td>\n",
              "      <td>0.0</td>\n",
              "      <td>1.5</td>\n",
              "      <td>2.5</td>\n",
              "      <td>1050</td>\n",
              "      <td>0</td>\n",
              "      <td>1200</td>\n",
              "      <td>3000</td>\n",
              "      <td>5250</td>\n",
              "    </tr>\n",
              "    <tr>\n",
              "      <th>2</th>\n",
              "      <td>0.0</td>\n",
              "      <td>0.0</td>\n",
              "      <td>0.2</td>\n",
              "      <td>0.0</td>\n",
              "      <td>0</td>\n",
              "      <td>0</td>\n",
              "      <td>160</td>\n",
              "      <td>0</td>\n",
              "      <td>160</td>\n",
              "    </tr>\n",
              "    <tr>\n",
              "      <th>3</th>\n",
              "      <td>2.0</td>\n",
              "      <td>0.0</td>\n",
              "      <td>0.2</td>\n",
              "      <td>0.0</td>\n",
              "      <td>1400</td>\n",
              "      <td>0</td>\n",
              "      <td>160</td>\n",
              "      <td>0</td>\n",
              "      <td>1560</td>\n",
              "    </tr>\n",
              "    <tr>\n",
              "      <th>4</th>\n",
              "      <td>0.0</td>\n",
              "      <td>0.5</td>\n",
              "      <td>1.0</td>\n",
              "      <td>0.0</td>\n",
              "      <td>0</td>\n",
              "      <td>375</td>\n",
              "      <td>800</td>\n",
              "      <td>0</td>\n",
              "      <td>1175</td>\n",
              "    </tr>\n",
              "  </tbody>\n",
              "</table>\n",
              "</div>"
            ],
            "text/plain": [
              "   product_1\\nmysore_pak\\n(Kg)  product_2\\nsoan_ papdi\\n(Kg)  \\\n",
              "0                          0.1                           1.5   \n",
              "1                          1.5                           0.0   \n",
              "2                          0.0                           0.0   \n",
              "3                          2.0                           0.0   \n",
              "4                          0.0                           0.5   \n",
              "\n",
              "   product_3\\nmotichoor\\n(Kg)  product_4\\nkaju_barfi\\n(Kg)  \\\n",
              "0                         0.0                          0.0   \n",
              "1                         1.5                          2.5   \n",
              "2                         0.2                          0.0   \n",
              "3                         0.2                          0.0   \n",
              "4                         1.0                          0.0   \n",
              "\n",
              "    amont_1\\nmysore_pak    amount_2\\nsona_padi   amount_3\\nmotichoor   \\\n",
              "0                     70                   1125                     0   \n",
              "1                   1050                      0                  1200   \n",
              "2                      0                      0                   160   \n",
              "3                   1400                      0                   160   \n",
              "4                      0                    375                   800   \n",
              "\n",
              "   amount_4\\nkaju_barfi  total_amount  \n",
              "0                     0          1195  \n",
              "1                  3000          5250  \n",
              "2                     0           160  \n",
              "3                     0          1560  \n",
              "4                     0          1175  "
            ]
          },
          "execution_count": 23,
          "metadata": {},
          "output_type": "execute_result"
        }
      ],
      "source": [
        "df.head(5)"
      ]
    },
    {
      "cell_type": "code",
      "execution_count": null,
      "id": "6ac5d8b0",
      "metadata": {
        "id": "6ac5d8b0"
      },
      "outputs": [],
      "source": [
        "X= df.iloc[:,:-1]"
      ]
    },
    {
      "cell_type": "code",
      "execution_count": null,
      "id": "8d914009",
      "metadata": {
        "colab": {
          "base_uri": "https://localhost:8080/",
          "height": 505
        },
        "id": "8d914009",
        "outputId": "50ac2a9e-d8e2-4ff1-87fd-d9a758837c37",
        "scrolled": true
      },
      "outputs": [
        {
          "data": {
            "text/html": [
              "<div>\n",
              "<style scoped>\n",
              "    .dataframe tbody tr th:only-of-type {\n",
              "        vertical-align: middle;\n",
              "    }\n",
              "\n",
              "    .dataframe tbody tr th {\n",
              "        vertical-align: top;\n",
              "    }\n",
              "\n",
              "    .dataframe thead th {\n",
              "        text-align: right;\n",
              "    }\n",
              "</style>\n",
              "<table border=\"1\" class=\"dataframe\">\n",
              "  <thead>\n",
              "    <tr style=\"text-align: right;\">\n",
              "      <th></th>\n",
              "      <th>product_1\\nmysore_pak\\n(Kg)</th>\n",
              "      <th>product_2\\nsoan_ papdi\\n(Kg)</th>\n",
              "      <th>product_3\\nmotichoor\\n(Kg)</th>\n",
              "      <th>product_4\\nkaju_barfi\\n(Kg)</th>\n",
              "      <th>amont_1\\nmysore_pak</th>\n",
              "      <th>amount_2\\nsona_padi</th>\n",
              "      <th>amount_3\\nmotichoor</th>\n",
              "      <th>amount_4\\nkaju_barfi</th>\n",
              "    </tr>\n",
              "  </thead>\n",
              "  <tbody>\n",
              "    <tr>\n",
              "      <th>0</th>\n",
              "      <td>0.1</td>\n",
              "      <td>1.5</td>\n",
              "      <td>0.0</td>\n",
              "      <td>0.0</td>\n",
              "      <td>70</td>\n",
              "      <td>1125</td>\n",
              "      <td>0</td>\n",
              "      <td>0</td>\n",
              "    </tr>\n",
              "    <tr>\n",
              "      <th>1</th>\n",
              "      <td>1.5</td>\n",
              "      <td>0.0</td>\n",
              "      <td>1.5</td>\n",
              "      <td>2.5</td>\n",
              "      <td>1050</td>\n",
              "      <td>0</td>\n",
              "      <td>1200</td>\n",
              "      <td>3000</td>\n",
              "    </tr>\n",
              "    <tr>\n",
              "      <th>2</th>\n",
              "      <td>0.0</td>\n",
              "      <td>0.0</td>\n",
              "      <td>0.2</td>\n",
              "      <td>0.0</td>\n",
              "      <td>0</td>\n",
              "      <td>0</td>\n",
              "      <td>160</td>\n",
              "      <td>0</td>\n",
              "    </tr>\n",
              "    <tr>\n",
              "      <th>3</th>\n",
              "      <td>2.0</td>\n",
              "      <td>0.0</td>\n",
              "      <td>0.2</td>\n",
              "      <td>0.0</td>\n",
              "      <td>1400</td>\n",
              "      <td>0</td>\n",
              "      <td>160</td>\n",
              "      <td>0</td>\n",
              "    </tr>\n",
              "    <tr>\n",
              "      <th>4</th>\n",
              "      <td>0.0</td>\n",
              "      <td>0.5</td>\n",
              "      <td>1.0</td>\n",
              "      <td>0.0</td>\n",
              "      <td>0</td>\n",
              "      <td>375</td>\n",
              "      <td>800</td>\n",
              "      <td>0</td>\n",
              "    </tr>\n",
              "    <tr>\n",
              "      <th>...</th>\n",
              "      <td>...</td>\n",
              "      <td>...</td>\n",
              "      <td>...</td>\n",
              "      <td>...</td>\n",
              "      <td>...</td>\n",
              "      <td>...</td>\n",
              "      <td>...</td>\n",
              "      <td>...</td>\n",
              "    </tr>\n",
              "    <tr>\n",
              "      <th>995</th>\n",
              "      <td>0.0</td>\n",
              "      <td>0.5</td>\n",
              "      <td>0.0</td>\n",
              "      <td>0.0</td>\n",
              "      <td>0</td>\n",
              "      <td>375</td>\n",
              "      <td>0</td>\n",
              "      <td>0</td>\n",
              "    </tr>\n",
              "    <tr>\n",
              "      <th>996</th>\n",
              "      <td>1.0</td>\n",
              "      <td>1.5</td>\n",
              "      <td>0.0</td>\n",
              "      <td>0.0</td>\n",
              "      <td>700</td>\n",
              "      <td>1125</td>\n",
              "      <td>0</td>\n",
              "      <td>0</td>\n",
              "    </tr>\n",
              "    <tr>\n",
              "      <th>997</th>\n",
              "      <td>1.5</td>\n",
              "      <td>1.5</td>\n",
              "      <td>0.2</td>\n",
              "      <td>0.0</td>\n",
              "      <td>1050</td>\n",
              "      <td>1125</td>\n",
              "      <td>160</td>\n",
              "      <td>0</td>\n",
              "    </tr>\n",
              "    <tr>\n",
              "      <th>998</th>\n",
              "      <td>0.0</td>\n",
              "      <td>0.2</td>\n",
              "      <td>0.0</td>\n",
              "      <td>0.5</td>\n",
              "      <td>0</td>\n",
              "      <td>150</td>\n",
              "      <td>0</td>\n",
              "      <td>600</td>\n",
              "    </tr>\n",
              "    <tr>\n",
              "      <th>999</th>\n",
              "      <td>0.0</td>\n",
              "      <td>0.2</td>\n",
              "      <td>0.5</td>\n",
              "      <td>0.0</td>\n",
              "      <td>0</td>\n",
              "      <td>150</td>\n",
              "      <td>400</td>\n",
              "      <td>0</td>\n",
              "    </tr>\n",
              "  </tbody>\n",
              "</table>\n",
              "<p>1000 rows × 8 columns</p>\n",
              "</div>"
            ],
            "text/plain": [
              "     product_1\\nmysore_pak\\n(Kg)  product_2\\nsoan_ papdi\\n(Kg)  \\\n",
              "0                            0.1                           1.5   \n",
              "1                            1.5                           0.0   \n",
              "2                            0.0                           0.0   \n",
              "3                            2.0                           0.0   \n",
              "4                            0.0                           0.5   \n",
              "..                           ...                           ...   \n",
              "995                          0.0                           0.5   \n",
              "996                          1.0                           1.5   \n",
              "997                          1.5                           1.5   \n",
              "998                          0.0                           0.2   \n",
              "999                          0.0                           0.2   \n",
              "\n",
              "     product_3\\nmotichoor\\n(Kg)  product_4\\nkaju_barfi\\n(Kg)  \\\n",
              "0                           0.0                          0.0   \n",
              "1                           1.5                          2.5   \n",
              "2                           0.2                          0.0   \n",
              "3                           0.2                          0.0   \n",
              "4                           1.0                          0.0   \n",
              "..                          ...                          ...   \n",
              "995                         0.0                          0.0   \n",
              "996                         0.0                          0.0   \n",
              "997                         0.2                          0.0   \n",
              "998                         0.0                          0.5   \n",
              "999                         0.5                          0.0   \n",
              "\n",
              "      amont_1\\nmysore_pak    amount_2\\nsona_padi   amount_3\\nmotichoor   \\\n",
              "0                       70                   1125                     0   \n",
              "1                     1050                      0                  1200   \n",
              "2                        0                      0                   160   \n",
              "3                     1400                      0                   160   \n",
              "4                        0                    375                   800   \n",
              "..                     ...                    ...                   ...   \n",
              "995                      0                    375                     0   \n",
              "996                    700                   1125                     0   \n",
              "997                   1050                   1125                   160   \n",
              "998                      0                    150                     0   \n",
              "999                      0                    150                   400   \n",
              "\n",
              "     amount_4\\nkaju_barfi  \n",
              "0                       0  \n",
              "1                    3000  \n",
              "2                       0  \n",
              "3                       0  \n",
              "4                       0  \n",
              "..                    ...  \n",
              "995                     0  \n",
              "996                     0  \n",
              "997                     0  \n",
              "998                   600  \n",
              "999                     0  \n",
              "\n",
              "[1000 rows x 8 columns]"
            ]
          },
          "execution_count": 25,
          "metadata": {},
          "output_type": "execute_result"
        }
      ],
      "source": [
        "X"
      ]
    },
    {
      "cell_type": "code",
      "execution_count": null,
      "id": "732f725b",
      "metadata": {
        "id": "732f725b"
      },
      "outputs": [],
      "source": [
        "y = df.iloc[:,-1]"
      ]
    },
    {
      "cell_type": "code",
      "execution_count": null,
      "id": "0cbb8db3",
      "metadata": {
        "colab": {
          "base_uri": "https://localhost:8080/"
        },
        "id": "0cbb8db3",
        "outputId": "d9903288-c19e-46c2-9c6e-88bc4ca27bcb"
      },
      "outputs": [
        {
          "data": {
            "text/plain": [
              "0      1195\n",
              "1      5250\n",
              "2       160\n",
              "3      1560\n",
              "4      1175\n",
              "       ... \n",
              "995     375\n",
              "996    1825\n",
              "997    2335\n",
              "998     750\n",
              "999     550\n",
              "Name: total_amount, Length: 1000, dtype: int64"
            ]
          },
          "execution_count": 27,
          "metadata": {},
          "output_type": "execute_result"
        }
      ],
      "source": [
        "y"
      ]
    },
    {
      "cell_type": "code",
      "execution_count": null,
      "id": "95a31c57",
      "metadata": {
        "id": "95a31c57"
      },
      "outputs": [],
      "source": [
        "from sklearn.model_selection import train_test_split\n",
        "x_train,x_test,y_train,y_test = train_test_split(X,y,test_size = 0.25,random_state = 42)"
      ]
    },
    {
      "cell_type": "code",
      "execution_count": null,
      "id": "71e6eff8",
      "metadata": {
        "id": "71e6eff8",
        "outputId": "4d90c49e-acba-4396-a1c0-51ab8e6c4462"
      },
      "outputs": [
        {
          "data": {
            "text/html": [
              "<div>\n",
              "<style scoped>\n",
              "    .dataframe tbody tr th:only-of-type {\n",
              "        vertical-align: middle;\n",
              "    }\n",
              "\n",
              "    .dataframe tbody tr th {\n",
              "        vertical-align: top;\n",
              "    }\n",
              "\n",
              "    .dataframe thead th {\n",
              "        text-align: right;\n",
              "    }\n",
              "</style>\n",
              "<table border=\"1\" class=\"dataframe\">\n",
              "  <thead>\n",
              "    <tr style=\"text-align: right;\">\n",
              "      <th></th>\n",
              "      <th>product_1\\nmysore_pak\\n(Kg)</th>\n",
              "      <th>product_2\\nsoan_ papdi\\n(Kg)</th>\n",
              "      <th>product_3\\nmotichoor\\n(Kg)</th>\n",
              "      <th>product_4\\nkaju_barfi\\n(Kg)</th>\n",
              "      <th>amont_1\\nmysore_pak</th>\n",
              "      <th>amount_2\\nsona_padi</th>\n",
              "      <th>amount_3\\nmotichoor</th>\n",
              "      <th>amount_4\\nkaju_barfi</th>\n",
              "    </tr>\n",
              "  </thead>\n",
              "  <tbody>\n",
              "    <tr>\n",
              "      <th>521</th>\n",
              "      <td>0.0</td>\n",
              "      <td>0.5</td>\n",
              "      <td>0.0</td>\n",
              "      <td>7.0</td>\n",
              "      <td>0</td>\n",
              "      <td>375</td>\n",
              "      <td>0</td>\n",
              "      <td>8400</td>\n",
              "    </tr>\n",
              "    <tr>\n",
              "      <th>737</th>\n",
              "      <td>0.2</td>\n",
              "      <td>0.0</td>\n",
              "      <td>0.5</td>\n",
              "      <td>1.0</td>\n",
              "      <td>140</td>\n",
              "      <td>0</td>\n",
              "      <td>400</td>\n",
              "      <td>1200</td>\n",
              "    </tr>\n",
              "    <tr>\n",
              "      <th>740</th>\n",
              "      <td>0.0</td>\n",
              "      <td>0.0</td>\n",
              "      <td>0.2</td>\n",
              "      <td>0.0</td>\n",
              "      <td>0</td>\n",
              "      <td>0</td>\n",
              "      <td>160</td>\n",
              "      <td>0</td>\n",
              "    </tr>\n",
              "    <tr>\n",
              "      <th>660</th>\n",
              "      <td>0.2</td>\n",
              "      <td>1.0</td>\n",
              "      <td>2.5</td>\n",
              "      <td>3.0</td>\n",
              "      <td>140</td>\n",
              "      <td>750</td>\n",
              "      <td>2000</td>\n",
              "      <td>3600</td>\n",
              "    </tr>\n",
              "    <tr>\n",
              "      <th>411</th>\n",
              "      <td>0.0</td>\n",
              "      <td>0.5</td>\n",
              "      <td>0.2</td>\n",
              "      <td>1.0</td>\n",
              "      <td>0</td>\n",
              "      <td>375</td>\n",
              "      <td>160</td>\n",
              "      <td>1200</td>\n",
              "    </tr>\n",
              "    <tr>\n",
              "      <th>...</th>\n",
              "      <td>...</td>\n",
              "      <td>...</td>\n",
              "      <td>...</td>\n",
              "      <td>...</td>\n",
              "      <td>...</td>\n",
              "      <td>...</td>\n",
              "      <td>...</td>\n",
              "      <td>...</td>\n",
              "    </tr>\n",
              "    <tr>\n",
              "      <th>109</th>\n",
              "      <td>0.5</td>\n",
              "      <td>1.0</td>\n",
              "      <td>2.0</td>\n",
              "      <td>0.0</td>\n",
              "      <td>350</td>\n",
              "      <td>750</td>\n",
              "      <td>1600</td>\n",
              "      <td>0</td>\n",
              "    </tr>\n",
              "    <tr>\n",
              "      <th>430</th>\n",
              "      <td>0.2</td>\n",
              "      <td>0.5</td>\n",
              "      <td>1.0</td>\n",
              "      <td>1.0</td>\n",
              "      <td>140</td>\n",
              "      <td>375</td>\n",
              "      <td>800</td>\n",
              "      <td>1200</td>\n",
              "    </tr>\n",
              "    <tr>\n",
              "      <th>77</th>\n",
              "      <td>0.0</td>\n",
              "      <td>0.0</td>\n",
              "      <td>0.0</td>\n",
              "      <td>5.0</td>\n",
              "      <td>0</td>\n",
              "      <td>0</td>\n",
              "      <td>0</td>\n",
              "      <td>6000</td>\n",
              "    </tr>\n",
              "    <tr>\n",
              "      <th>84</th>\n",
              "      <td>0.0</td>\n",
              "      <td>0.0</td>\n",
              "      <td>0.0</td>\n",
              "      <td>5.0</td>\n",
              "      <td>0</td>\n",
              "      <td>0</td>\n",
              "      <td>0</td>\n",
              "      <td>6000</td>\n",
              "    </tr>\n",
              "    <tr>\n",
              "      <th>286</th>\n",
              "      <td>0.0</td>\n",
              "      <td>0.0</td>\n",
              "      <td>0.0</td>\n",
              "      <td>1.0</td>\n",
              "      <td>0</td>\n",
              "      <td>0</td>\n",
              "      <td>0</td>\n",
              "      <td>1200</td>\n",
              "    </tr>\n",
              "  </tbody>\n",
              "</table>\n",
              "<p>250 rows × 8 columns</p>\n",
              "</div>"
            ],
            "text/plain": [
              "     product_1\\nmysore_pak\\n(Kg)  product_2\\nsoan_ papdi\\n(Kg)  \\\n",
              "521                          0.0                           0.5   \n",
              "737                          0.2                           0.0   \n",
              "740                          0.0                           0.0   \n",
              "660                          0.2                           1.0   \n",
              "411                          0.0                           0.5   \n",
              "..                           ...                           ...   \n",
              "109                          0.5                           1.0   \n",
              "430                          0.2                           0.5   \n",
              "77                           0.0                           0.0   \n",
              "84                           0.0                           0.0   \n",
              "286                          0.0                           0.0   \n",
              "\n",
              "     product_3\\nmotichoor\\n(Kg)  product_4\\nkaju_barfi\\n(Kg)  \\\n",
              "521                         0.0                          7.0   \n",
              "737                         0.5                          1.0   \n",
              "740                         0.2                          0.0   \n",
              "660                         2.5                          3.0   \n",
              "411                         0.2                          1.0   \n",
              "..                          ...                          ...   \n",
              "109                         2.0                          0.0   \n",
              "430                         1.0                          1.0   \n",
              "77                          0.0                          5.0   \n",
              "84                          0.0                          5.0   \n",
              "286                         0.0                          1.0   \n",
              "\n",
              "      amont_1\\nmysore_pak    amount_2\\nsona_padi   amount_3\\nmotichoor   \\\n",
              "521                      0                    375                     0   \n",
              "737                    140                      0                   400   \n",
              "740                      0                      0                   160   \n",
              "660                    140                    750                  2000   \n",
              "411                      0                    375                   160   \n",
              "..                     ...                    ...                   ...   \n",
              "109                    350                    750                  1600   \n",
              "430                    140                    375                   800   \n",
              "77                       0                      0                     0   \n",
              "84                       0                      0                     0   \n",
              "286                      0                      0                     0   \n",
              "\n",
              "     amount_4\\nkaju_barfi  \n",
              "521                  8400  \n",
              "737                  1200  \n",
              "740                     0  \n",
              "660                  3600  \n",
              "411                  1200  \n",
              "..                    ...  \n",
              "109                     0  \n",
              "430                  1200  \n",
              "77                   6000  \n",
              "84                   6000  \n",
              "286                  1200  \n",
              "\n",
              "[250 rows x 8 columns]"
            ]
          },
          "execution_count": 29,
          "metadata": {},
          "output_type": "execute_result"
        }
      ],
      "source": [
        "x_test"
      ]
    },
    {
      "cell_type": "code",
      "execution_count": null,
      "id": "e88bc5d6",
      "metadata": {
        "id": "e88bc5d6"
      },
      "outputs": [],
      "source": [
        "from sklearn.ensemble import RandomForestRegressor"
      ]
    },
    {
      "cell_type": "code",
      "execution_count": null,
      "id": "44dbfff9",
      "metadata": {
        "id": "44dbfff9"
      },
      "outputs": [],
      "source": [
        "rf = RandomForestRegressor()"
      ]
    },
    {
      "cell_type": "code",
      "execution_count": null,
      "id": "dd539f76",
      "metadata": {
        "colab": {
          "base_uri": "https://localhost:8080/"
        },
        "id": "dd539f76",
        "outputId": "14458aa8-d248-418e-fb66-52059d60713c"
      },
      "outputs": [
        {
          "data": {
            "text/plain": [
              "RandomForestRegressor()"
            ]
          },
          "execution_count": 32,
          "metadata": {},
          "output_type": "execute_result"
        }
      ],
      "source": [
        "rf.fit(x_train,y_train)"
      ]
    },
    {
      "cell_type": "code",
      "execution_count": null,
      "id": "acc28618",
      "metadata": {
        "id": "acc28618"
      },
      "outputs": [],
      "source": [
        "ypred = rf.predict(x_test)"
      ]
    },
    {
      "cell_type": "code",
      "execution_count": null,
      "id": "ee65b61d",
      "metadata": {
        "colab": {
          "base_uri": "https://localhost:8080/"
        },
        "id": "ee65b61d",
        "outputId": "255a70b0-fd27-4920-ac36-4d74145b900a"
      },
      "outputs": [
        {
          "data": {
            "text/plain": [
              "0.993272467655783"
            ]
          },
          "execution_count": 34,
          "metadata": {},
          "output_type": "execute_result"
        }
      ],
      "source": [
        "rf.score(x_train,y_train)"
      ]
    },
    {
      "cell_type": "code",
      "execution_count": null,
      "id": "fbb19ba3",
      "metadata": {
        "colab": {
          "base_uri": "https://localhost:8080/"
        },
        "id": "fbb19ba3",
        "outputId": "ff6585ff-6ca0-4eea-99d8-4f356d51e935"
      },
      "outputs": [
        {
          "data": {
            "text/plain": [
              "0.9495107202919526"
            ]
          },
          "execution_count": 35,
          "metadata": {},
          "output_type": "execute_result"
        }
      ],
      "source": [
        "rf.score(x_test,y_test)"
      ]
    },
    {
      "cell_type": "code",
      "execution_count": null,
      "id": "62f655a0",
      "metadata": {
        "id": "62f655a0"
      },
      "outputs": [],
      "source": [
        "y_pred1 = rf.predict(x_test)"
      ]
    },
    {
      "cell_type": "code",
      "execution_count": null,
      "id": "748a37ea",
      "metadata": {
        "colab": {
          "base_uri": "https://localhost:8080/"
        },
        "id": "748a37ea",
        "outputId": "b60ea0c4-f527-4b45-96ec-3220eab95f99"
      },
      "outputs": [
        {
          "data": {
            "text/plain": [
              "array([ 8304.  ,  1706.  ,   162.4 ,  6791.  ,  1735.  ,  2974.65,\n",
              "        6424.65,  8881.5 ,  4898.45,  2866.05,   375.  ,  1600.  ,\n",
              "         862.4 ,   400.  ,  2065.  ,  2672.1 ,  1735.  ,  2075.5 ,\n",
              "        1691.6 ,  1576.4 ,   400.  ,  3974.  ,  1523.8 ,   162.4 ,\n",
              "         700.  ,  1523.8 ,  2014.15,  2476.  ,  1175.  ,   375.  ,\n",
              "        1564.25,  2560.4 ,  1621.  ,  2756.75,  6655.  ,  5065.85,\n",
              "        4824.  ,  1900.  ,  1735.  ,  5182.  ,  6407.75,  1809.15,\n",
              "        3101.  ,  2674.2 ,  1365.45,  4847.2 ,   862.4 ,  3852.  ,\n",
              "        2398.3 ,  1692.75,  1825.  ,   700.  ,  1900.  ,   162.4 ,\n",
              "        4898.45,  3970.5 ,  2417.  ,   690.7 ,   550.  ,  1175.  ,\n",
              "        1750.  ,  6374.65,  1119.25,  3812.5 ,  4345.5 ,  2202.4 ,\n",
              "        6694.25,   162.4 ,   867.1 ,   150.  ,   162.4 ,  2475.  ,\n",
              "        1766.7 ,   162.4 ,  8241.9 ,  2383.  ,  3099.15,  3100.25,\n",
              "        3366.2 ,   285.8 ,  2383.  ,  1963.25,  5088.25,  3468.5 ,\n",
              "         862.4 ,  2578.4 ,   750.  ,   535.  ,  1087.85,  1735.  ,\n",
              "        1544.9 ,  3425.  ,   744.4 , 10853.2 ,  4237.  ,  2386.6 ,\n",
              "        1200.  ,  2407.  ,  1558.  ,   375.  ,  1735.  ,   162.4 ,\n",
              "         162.4 ,  3849.  ,   616.1 ,   750.  ,   162.4 ,   400.  ,\n",
              "        4171.25,   616.1 ,  1175.  ,  4345.5 ,  1970.9 ,  2674.2 ,\n",
              "        2331.2 ,  6867.75,  7817.  ,   535.  ,  4756.25,  1348.3 ,\n",
              "         494.  ,  1909.4 ,  4824.  ,  1600.  ,   601.4 ,  2974.15,\n",
              "         700.  ,  3612.3 ,  3425.  ,  1965.15,  3366.2 ,   400.  ,\n",
              "        1200.  ,   375.  ,  1397.25, 10853.2 ,  2053.3 ,   758.7 ,\n",
              "         375.  ,  1809.15,   375.  ,  5873.75,  1560.9 ,  2409.15,\n",
              "        3144.  ,  1200.  ,  2672.1 ,  1307.2 ,  3852.  ,  1750.  ,\n",
              "        5018.8 ,  1809.15,  2756.75,  3450.  ,   601.4 ,  3525.25,\n",
              "        1175.  ,  6285.  ,  5217.  ,  1087.85,  1093.6 ,  1397.25,\n",
              "        1750.  ,  2550.7 ,  1072.3 ,  1175.  ,  1576.4 ,  6407.75,\n",
              "        4555.75,  4192.7 ,  8881.5 ,  3110.8 ,   162.4 ,   400.  ,\n",
              "        3002.75,  1415.5 ,  1970.9 ,   538.95,   375.  ,  2374.75,\n",
              "        6424.65,  4824.  ,   162.4 ,  2412.  ,  6030.  ,  3974.  ,\n",
              "        2578.45,  3412.75,  3782.9 ,   535.  ,   535.  ,   535.  ,\n",
              "         700.  , 16580.75,  3467.75,  1825.  ,  6362.9 ,  1963.25,\n",
              "         744.4 ,   487.  ,  3507.  ,  1545.7 ,  3110.8 ,  2745.1 ,\n",
              "        4171.25,  2412.  ,   400.  ,  1600.  ,   375.  ,  1825.  ,\n",
              "         550.  ,  1744.9 ,   494.  ,   140.  ,   750.  ,   758.7 ,\n",
              "        3450.  ,  5514.  ,   867.1 ,  7586.05,  5985.  ,  3450.  ,\n",
              "        3450.  ,  3473.75,   538.95,   162.4 ,   400.  ,  7223.  ,\n",
              "         375.  ,  2820.  ,  1496.  ,   150.  ,  1706.  ,  2377.2 ,\n",
              "        3991.75,  3006.45,  2974.15,   750.  ,  1221.  ,  6407.75,\n",
              "        1545.7 ,  2548.55,  2075.5 ,   700.  ,  1600.  ,  2396.5 ,\n",
              "        2521.65,  6424.65,  6424.65,  1200.  ])"
            ]
          },
          "execution_count": 37,
          "metadata": {},
          "output_type": "execute_result"
        }
      ],
      "source": [
        "y_pred1"
      ]
    },
    {
      "cell_type": "code",
      "execution_count": null,
      "id": "fb0d8f8e",
      "metadata": {
        "colab": {
          "base_uri": "https://localhost:8080/",
          "height": 500
        },
        "id": "fb0d8f8e",
        "outputId": "fecdbb36-bed6-4a23-bb80-afb7ddc5d441"
      },
      "outputs": [
        {
          "data": {
            "text/plain": [
              "Text(0.5, 1.0, 'actual vs predicted ')"
            ]
          },
          "execution_count": 38,
          "metadata": {},
          "output_type": "execute_result"
        },
        {
          "data": {
            "image/png": "[encoded data removed]",
            "text/plain": [
              "<Figure size 864x576 with 1 Axes>"
            ]
          },
          "metadata": {
            "needs_background": "light"
          },
          "output_type": "display_data"
        }
      ],
      "source": [
        "plt.figure(figsize=(12,8))\n",
        "plt.scatter(y_test,y_pred1)\n",
        "plt.xlabel('actual values')\n",
        "plt.ylabel('predicted values')\n",
        "plt.title('actual vs predicted ')"
      ]
    },
    {
      "cell_type": "code",
      "execution_count": null,
      "id": "098dde06",
      "metadata": {
        "colab": {
          "base_uri": "https://localhost:8080/"
        },
        "id": "098dde06",
        "outputId": "890b81f7-d275-400c-f4e1-c2c93ace90e2"
      },
      "outputs": [
        {
          "name": "stdout",
          "output_type": "stream",
          "text": [
            "MAPE 0.03618771701517851\n"
          ]
        }
      ],
      "source": [
        "from sklearn.metrics import mean_absolute_percentage_error\n",
        "print('MAPE',mean_absolute_percentage_error(y_test, y_pred1))"
      ]
    },
    {
      "cell_type": "code",
      "execution_count": null,
      "id": "a64c0c7b",
      "metadata": {
        "id": "a64c0c7b",
        "outputId": "b23776cb-381e-4872-ff52-366f5c9e93fa"
      },
      "outputs": [
        {
          "data": {
            "text/plain": [
              "array([3450.])"
            ]
          },
          "execution_count": 40,
          "metadata": {},
          "output_type": "execute_result"
        }
      ],
      "source": [
        "rf.predict([[1,1,1,1,700,750,800,1200]])"
      ]
    },
    {
      "cell_type": "code",
      "execution_count": null,
      "id": "34ccddb4",
      "metadata": {
        "id": "34ccddb4",
        "outputId": "1229636d-e20f-47f8-e4cd-5641e430f013"
      },
      "outputs": [
        {
          "data": {
            "text/plain": [
              "array([3246.5])"
            ]
          },
          "execution_count": 41,
          "metadata": {},
          "output_type": "execute_result"
        }
      ],
      "source": [
        "rf.predict([[1,2,1,0,700,1500,800,0]])"
      ]
    },
    {
      "cell_type": "code",
      "execution_count": null,
      "id": "210a2f5d",
      "metadata": {
        "id": "210a2f5d"
      },
      "outputs": [],
      "source": [
        "### Creating a Pickle file using serialization\n",
        "import pickle\n",
        "pickle_out = open(\"rf.pkl\",\"wb\")\n",
        "pickle.dump(rf, pickle_out)\n",
        "pickle_out.close()"
      ]
    }
  ],
  "metadata": {
    "colab": {
      "provenance": []
    },
    "kernelspec": {
      "display_name": "Python 3 (ipykernel)",
      "language": "python",
      "name": "python3"
    },
    "language_info": {
      "codemirror_mode": {
        "name": "ipython",
        "version": 3
      },
      "file_extension": ".py",
      "mimetype": "text/x-python",
      "name": "python",
      "nbconvert_exporter": "python",
      "pygments_lexer": "ipython3",
      "version": "3.9.7"
    }
  },
  "nbformat": 4,
  "nbformat_minor": 5
}